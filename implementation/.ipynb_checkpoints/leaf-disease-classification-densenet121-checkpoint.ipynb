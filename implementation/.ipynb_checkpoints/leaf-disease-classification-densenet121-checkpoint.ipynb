{
 "cells": [
  {
   "cell_type": "code",
   "execution_count": 1,
   "metadata": {
    "_cell_guid": "b1076dfc-b9ad-4769-8c92-a6c4dae69d19",
    "_uuid": "8f2839f25d086af736a60e9eeb907d3b93b6e0e5",
    "execution": {
     "iopub.execute_input": "2025-07-18T08:53:07.677037Z",
     "iopub.status.busy": "2025-07-18T08:53:07.676682Z",
     "iopub.status.idle": "2025-07-18T08:53:19.053525Z",
     "shell.execute_reply": "2025-07-18T08:53:19.052474Z",
     "shell.execute_reply.started": "2025-07-18T08:53:07.676983Z"
    }
   },
   "outputs": [],
   "source": [
    "!pip install efficientnet_pytorch --quiet"
   ]
  },
  {
   "cell_type": "markdown",
   "metadata": {},
   "source": [
    "# Import Libraries"
   ]
  },
  {
   "cell_type": "code",
   "execution_count": 2,
   "metadata": {
    "execution": {
     "iopub.execute_input": "2025-07-18T08:53:25.171481Z",
     "iopub.status.busy": "2025-07-18T08:53:25.170381Z",
     "iopub.status.idle": "2025-07-18T08:53:29.013520Z",
     "shell.execute_reply": "2025-07-18T08:53:29.012811Z",
     "shell.execute_reply.started": "2025-07-18T08:53:25.171445Z"
    }
   },
   "outputs": [
    {
     "name": "stderr",
     "output_type": "stream",
     "text": [
      "/opt/conda/lib/python3.10/site-packages/scipy/__init__.py:146: UserWarning: A NumPy version >=1.16.5 and <1.23.0 is required for this version of SciPy (detected version 1.23.5\n",
      "  warnings.warn(f\"A NumPy version >={np_minversion} and <{np_maxversion}\"\n"
     ]
    }
   ],
   "source": [
    "from PIL import Image\n",
    "import matplotlib\n",
    "import matplotlib.pyplot as plt\n",
    "from matplotlib.pyplot import imshow\n",
    "import timm\n",
    "import torch\n",
    "import torch.nn as nn\n",
    "import torch.nn.functional as F\n",
    "import torch.optim as optim\n",
    "from torch.optim import lr_scheduler\n",
    "import torchvision\n",
    "from torchvision import datasets\n",
    "from torchvision import transforms\n",
    "from torch.utils.data import DataLoader, random_split\n",
    "\n",
    "from sklearn.model_selection import KFold\n",
    "from sklearn.model_selection import StratifiedKFold\n",
    "from sklearn.model_selection import train_test_split\n",
    "from torch.utils.data import Subset\n",
    "from sklearn.metrics import confusion_matrix,ConfusionMatrixDisplay,precision_score, recall_score, f1_score,classification_report\n",
    "import numpy as np\n",
    "import seaborn as sns\n",
    "import random\n",
    "import time\n",
    "import copy"
   ]
  },
  {
   "cell_type": "code",
   "execution_count": 3,
   "metadata": {
    "execution": {
     "iopub.execute_input": "2025-07-18T08:53:34.682352Z",
     "iopub.status.busy": "2025-07-18T08:53:34.681395Z",
     "iopub.status.idle": "2025-07-18T08:53:34.686786Z",
     "shell.execute_reply": "2025-07-18T08:53:34.685721Z",
     "shell.execute_reply.started": "2025-07-18T08:53:34.682301Z"
    }
   },
   "outputs": [],
   "source": [
    "import seaborn as sns\n",
    "sns.set_style(\"whitegrid\")"
   ]
  },
  {
   "cell_type": "code",
   "execution_count": 4,
   "metadata": {
    "execution": {
     "iopub.execute_input": "2025-07-18T08:53:38.646349Z",
     "iopub.status.busy": "2025-07-18T08:53:38.645977Z",
     "iopub.status.idle": "2025-07-18T08:53:38.698761Z",
     "shell.execute_reply": "2025-07-18T08:53:38.697785Z",
     "shell.execute_reply.started": "2025-07-18T08:53:38.646324Z"
    }
   },
   "outputs": [
    {
     "name": "stdout",
     "output_type": "stream",
     "text": [
      "True\n"
     ]
    }
   ],
   "source": [
    "if torch.cuda.is_available():\n",
    "    torch.backends.cudnn.deterministic = True\n",
    "\n",
    "print(torch.cuda.is_available())"
   ]
  },
  {
   "cell_type": "code",
   "execution_count": 5,
   "metadata": {
    "execution": {
     "iopub.execute_input": "2025-07-18T08:53:42.090677Z",
     "iopub.status.busy": "2025-07-18T08:53:42.089794Z",
     "iopub.status.idle": "2025-07-18T08:54:03.013837Z",
     "shell.execute_reply": "2025-07-18T08:54:03.013150Z",
     "shell.execute_reply.started": "2025-07-18T08:53:42.090646Z"
    }
   },
   "outputs": [],
   "source": [
    "batch_size = 64\n",
    "\n",
    "data_path = '/kaggle/input/plantdisease/PlantVillage'\n",
    "leaf_datasets = datasets.ImageFolder(\n",
    "    data_path,\n",
    "    transforms.Compose([\n",
    "        transforms.Resize((260, 260)),\n",
    "        transforms.ToTensor(),\n",
    "        transforms.Normalize(mean=[0.485, 0.456, 0.406], std=[0.229, 0.224, 0.225]),\n",
    "    ])\n",
    ")"
   ]
  },
  {
   "cell_type": "code",
   "execution_count": 6,
   "metadata": {
    "execution": {
     "iopub.execute_input": "2025-07-18T08:54:07.184600Z",
     "iopub.status.busy": "2025-07-18T08:54:07.184231Z",
     "iopub.status.idle": "2025-07-18T08:54:07.200699Z",
     "shell.execute_reply": "2025-07-18T08:54:07.200043Z",
     "shell.execute_reply.started": "2025-07-18T08:54:07.184574Z"
    }
   },
   "outputs": [],
   "source": [
    "random_seed = 33\n",
    "random.seed(random_seed)\n",
    "torch.manual_seed(random_seed)\n",
    "\n",
    "dataset = {}\n",
    "\n",
    "train_idx, valtest_idx = train_test_split(list(range(len(leaf_datasets))), test_size=0.4, random_state=random_seed)\n",
    "dataset['train'] = Subset(leaf_datasets, train_idx)\n",
    "valtest          = Subset(leaf_datasets, valtest_idx)\n",
    "\n",
    "\n",
    "val_idx, test_idx = train_test_split(list(range(len(valtest))), test_size=0.5, random_state=random_seed)\n",
    "dataset['valid'] = Subset(valtest, val_idx)\n",
    "dataset['test']  = Subset(valtest, test_idx)"
   ]
  },
  {
   "cell_type": "code",
   "execution_count": 7,
   "metadata": {
    "execution": {
     "iopub.execute_input": "2025-07-18T08:54:11.184483Z",
     "iopub.status.busy": "2025-07-18T08:54:11.184172Z",
     "iopub.status.idle": "2025-07-18T08:54:11.189049Z",
     "shell.execute_reply": "2025-07-18T08:54:11.188267Z",
     "shell.execute_reply.started": "2025-07-18T08:54:11.184460Z"
    }
   },
   "outputs": [
    {
     "name": "stdout",
     "output_type": "stream",
     "text": [
      "12382\n",
      "4128\n",
      "4128\n"
     ]
    }
   ],
   "source": [
    "print(len(dataset['train']))\n",
    "print(len(dataset['valid']))\n",
    "print(len(dataset['test']))"
   ]
  },
  {
   "cell_type": "code",
   "execution_count": 8,
   "metadata": {
    "execution": {
     "iopub.execute_input": "2025-07-18T08:54:14.795451Z",
     "iopub.status.busy": "2025-07-18T08:54:14.794860Z",
     "iopub.status.idle": "2025-07-18T08:54:14.801707Z",
     "shell.execute_reply": "2025-07-18T08:54:14.800829Z",
     "shell.execute_reply.started": "2025-07-18T08:54:14.795421Z"
    }
   },
   "outputs": [
    {
     "data": {
      "text/plain": [
       "15"
      ]
     },
     "execution_count": 8,
     "metadata": {},
     "output_type": "execute_result"
    }
   ],
   "source": [
    "num_classes=len(leaf_datasets.classes)\n",
    "num_classes\n"
   ]
  },
  {
   "cell_type": "code",
   "execution_count": 9,
   "metadata": {
    "execution": {
     "iopub.execute_input": "2025-07-18T08:54:17.987844Z",
     "iopub.status.busy": "2025-07-18T08:54:17.987035Z",
     "iopub.status.idle": "2025-07-18T08:54:17.993267Z",
     "shell.execute_reply": "2025-07-18T08:54:17.992315Z",
     "shell.execute_reply.started": "2025-07-18T08:54:17.987815Z"
    }
   },
   "outputs": [
    {
     "data": {
      "text/plain": [
       "['Pepper__bell___Bacterial_spot',\n",
       " 'Pepper__bell___healthy',\n",
       " 'Potato___Early_blight',\n",
       " 'Potato___Late_blight',\n",
       " 'Potato___healthy',\n",
       " 'Tomato_Bacterial_spot',\n",
       " 'Tomato_Early_blight',\n",
       " 'Tomato_Late_blight',\n",
       " 'Tomato_Leaf_Mold',\n",
       " 'Tomato_Septoria_leaf_spot',\n",
       " 'Tomato_Spider_mites_Two_spotted_spider_mite',\n",
       " 'Tomato__Target_Spot',\n",
       " 'Tomato__Tomato_YellowLeaf__Curl_Virus',\n",
       " 'Tomato__Tomato_mosaic_virus',\n",
       " 'Tomato_healthy']"
      ]
     },
     "execution_count": 9,
     "metadata": {},
     "output_type": "execute_result"
    }
   ],
   "source": [
    "leaf_datasets.classes"
   ]
  },
  {
   "cell_type": "code",
   "execution_count": 10,
   "metadata": {
    "execution": {
     "iopub.execute_input": "2025-07-18T08:54:21.893631Z",
     "iopub.status.busy": "2025-07-18T08:54:21.892753Z",
     "iopub.status.idle": "2025-07-18T08:54:21.898213Z",
     "shell.execute_reply": "2025-07-18T08:54:21.897284Z",
     "shell.execute_reply.started": "2025-07-18T08:54:21.893601Z"
    }
   },
   "outputs": [],
   "source": [
    "class_mapping = {\n",
    "    'Pepper__bell___Bacterial_spot': 'PBBS',\n",
    "    'Pepper__bell___healthy': 'PBH',\n",
    "    'Potato___Early_blight': 'PEB',\n",
    "    'Potato___Late_blight': 'PLB',\n",
    "    'Potato___healthy': 'PH',\n",
    "    'Tomato_Bacterial_spot': 'TBS',\n",
    "    'Tomato_Early_blight': 'TEB',\n",
    "    'Tomato_Late_blight': 'TLB',\n",
    "    'Tomato_Leaf_Mold': 'TLM',\n",
    "    'Tomato_Septoria_leaf_spot': 'TSLS',\n",
    "    'Tomato_Spider_mites_Two_spotted_spider_mite': 'TSM',\n",
    "    'Tomato__Target_Spot': 'TTS',\n",
    "    'Tomato__Tomato_YellowLeaf__Curl_Virus': 'TYCV',\n",
    "    'Tomato__Tomato_mosaic_virus': 'TTMV',\n",
    "    'Tomato_healthy': 'TH',\n",
    "\n",
    "    \n",
    "}"
   ]
  },
  {
   "cell_type": "code",
   "execution_count": 11,
   "metadata": {
    "execution": {
     "iopub.execute_input": "2025-07-18T08:54:25.983071Z",
     "iopub.status.busy": "2025-07-18T08:54:25.982708Z",
     "iopub.status.idle": "2025-07-18T08:54:25.987529Z",
     "shell.execute_reply": "2025-07-18T08:54:25.986615Z",
     "shell.execute_reply.started": "2025-07-18T08:54:25.983040Z"
    }
   },
   "outputs": [],
   "source": [
    "leaf_datasets.classes = [class_mapping[class_name] for class_name in leaf_datasets.classes]\n"
   ]
  },
  {
   "cell_type": "code",
   "execution_count": 12,
   "metadata": {
    "execution": {
     "iopub.execute_input": "2025-07-18T08:54:29.160632Z",
     "iopub.status.busy": "2025-07-18T08:54:29.160322Z",
     "iopub.status.idle": "2025-07-18T08:54:29.166721Z",
     "shell.execute_reply": "2025-07-18T08:54:29.165554Z",
     "shell.execute_reply.started": "2025-07-18T08:54:29.160610Z"
    }
   },
   "outputs": [
    {
     "data": {
      "text/plain": [
       "15"
      ]
     },
     "execution_count": 12,
     "metadata": {},
     "output_type": "execute_result"
    }
   ],
   "source": [
    "num_classes=len(leaf_datasets.classes)\n",
    "num_classes"
   ]
  },
  {
   "cell_type": "code",
   "execution_count": null,
   "metadata": {},
   "outputs": [],
   "source": [
    "# # Define the EfficientNet Model with Batch Normalization\n",
    "# class Model(nn.Module):\n",
    "#     def __init__(self, num_classes):\n",
    "#         super(Model, self).__init__()\n",
    "#         self.features = timm.create_model('efficientnet_b1', pretrained=True, num_classes=0)\n",
    "#         num_features=self.features.num_features\n",
    "#         self.bn = nn.BatchNorm1d(num_features)  \n",
    "#         self.fc = nn.Linear(1280, num_classes)\n",
    "\n",
    "#     def forward(self, x):\n",
    "#         x = self.features(x)\n",
    "#         x = nn.functional.relu(x)\n",
    "#         x = self.bn(x)  # Apply batch normalization after the activation function\n",
    "#         x = self.fc(x)\n",
    "#         return x\n",
    "\n",
    "\n",
    "# num_classes = len(leaf_datasets.classes)\n",
    "# model = Model(num_classes)"
   ]
  },
  {
   "cell_type": "code",
   "execution_count": 13,
   "metadata": {
    "execution": {
     "iopub.execute_input": "2025-07-18T08:54:43.884036Z",
     "iopub.status.busy": "2025-07-18T08:54:43.883322Z",
     "iopub.status.idle": "2025-07-18T08:54:44.437143Z",
     "shell.execute_reply": "2025-07-18T08:54:44.436347Z",
     "shell.execute_reply.started": "2025-07-18T08:54:43.883991Z"
    }
   },
   "outputs": [
    {
     "name": "stderr",
     "output_type": "stream",
     "text": [
      "/opt/conda/lib/python3.10/site-packages/torchvision/models/_utils.py:208: UserWarning: The parameter 'pretrained' is deprecated since 0.13 and may be removed in the future, please use 'weights' instead.\n",
      "  warnings.warn(\n",
      "/opt/conda/lib/python3.10/site-packages/torchvision/models/_utils.py:223: UserWarning: Arguments other than a weight enum or `None` for 'weights' are deprecated since 0.13 and may be removed in the future. The current behavior is equivalent to passing `weights=DenseNet121_Weights.IMAGENET1K_V1`. You can also use `weights=DenseNet121_Weights.DEFAULT` to get the most up-to-date weights.\n",
      "  warnings.warn(msg)\n",
      "Downloading: \"https://download.pytorch.org/models/densenet121-a639ec97.pth\" to /root/.cache/torch/hub/checkpoints/densenet121-a639ec97.pth\n",
      "100%|██████████| 30.8M/30.8M [00:00<00:00, 196MB/s]\n"
     ]
    }
   ],
   "source": [
    "from torchvision import models\n",
    "\n",
    "class DenseNetModel(nn.Module):\n",
    "    def __init__(self, num_classes):\n",
    "        super(DenseNetModel, self).__init__()\n",
    "        base_model = models.densenet121(pretrained=True)\n",
    "        num_features = base_model.classifier.in_features\n",
    "        base_model.classifier = nn.Identity()\n",
    "        self.features = base_model\n",
    "        self.bn = nn.BatchNorm1d(num_features)\n",
    "        self.fc = nn.Linear(num_features, num_classes)\n",
    "\n",
    "    def forward(self, x):\n",
    "        x = self.features(x)\n",
    "        x = nn.functional.relu(x)\n",
    "        x = self.bn(x)\n",
    "        x = self.fc(x)\n",
    "        return x\n",
    "\n",
    "num_classes = len(leaf_datasets.classes)\n",
    "model = DenseNetModel(num_classes)"
   ]
  },
  {
   "cell_type": "code",
   "execution_count": null,
   "metadata": {},
   "outputs": [],
   "source": [
    "\n",
    "# class ConvNeXtModel(nn.Module):\n",
    "#     def __init__(self, num_classes):\n",
    "#         super(ConvNeXtModel, self).__init__()\n",
    "#         self.features = timm.create_model('convnext_small', pretrained=True, num_classes=0)\n",
    "#         num_features = self.features.num_features\n",
    "#         self.bn = nn.BatchNorm1d(num_features)\n",
    "#         self.fc = nn.Linear(num_features, num_classes)\n",
    "\n",
    "#     def forward(self, x):\n",
    "#         x = self.features(x)\n",
    "#         x = nn.functional.relu(x)\n",
    "#         x = self.bn(x)\n",
    "#         x = self.fc(x)\n",
    "#         return x\n",
    "\n",
    "# num_classes = len(leaf_datasets.classes)\n",
    "# model = ConvNeXtModel(num_classes)"
   ]
  },
  {
   "cell_type": "code",
   "execution_count": 14,
   "metadata": {
    "execution": {
     "iopub.execute_input": "2025-07-18T08:54:52.637180Z",
     "iopub.status.busy": "2025-07-18T08:54:52.636831Z",
     "iopub.status.idle": "2025-07-18T08:54:52.643174Z",
     "shell.execute_reply": "2025-07-18T08:54:52.642186Z",
     "shell.execute_reply.started": "2025-07-18T08:54:52.637152Z"
    }
   },
   "outputs": [],
   "source": [
    "def plot_confusion_matrix(true_labels, pred_labels, classes):\n",
    "    cm = confusion_matrix(true_labels, pred_labels)\n",
    "    disp = ConfusionMatrixDisplay(confusion_matrix=cm, display_labels=classes)\n",
    "    plt.figure(figsize=(8,8))\n",
    "    sns.heatmap(cm, annot=True, fmt='g', vmin=0, cmap='Blues', cbar=False)\n",
    "    #disp.plot(cmap='YlGnBu', values_format='.0f')\n",
    "    #plt.xticks(rotation=90)\n",
    "    plt.xticks(ticks= np.arange(15) + 0.5, labels=classes, rotation=90)\n",
    "    plt.yticks(ticks= np.arange(15) + 0.5, labels=classes, rotation=0)\n",
    "    plt.title(\"Confusion Matrix\")\n",
    "    # plt.savefig(f'confusion_matrix_fold_{fold+1}.png')\n",
    "    plt.show()"
   ]
  },
  {
   "cell_type": "code",
   "execution_count": null,
   "metadata": {},
   "outputs": [],
   "source": [
    "# #Perform k-fold cross-validation\n",
    "# num_folds = 5\n",
    "# #kf = KFold(n_splits=num_folds, shuffle=True, random_state=random_seed)\n",
    "# kf = StratifiedKFold(n_splits=num_folds, shuffle=True, random_state=random_seed)\n",
    "\n",
    "# # Initialize lists to store validation accuracies, losses, true labels, and predicted labels for each fold\n",
    "# fold_val_acc_list = []\n",
    "# fold_val_loss_list = []\n",
    "# all_true_labels = []\n",
    "# all_pred_labels = []\n",
    "\n",
    "# # Store the accuracy\n",
    "# train_acc_list=[]\n",
    "# val_acc_list=[]\n",
    "\n",
    "# # lists to store the training and validation losses for each fold\n",
    "# train_loss_list = []\n",
    "# val_loss_list = []\n",
    "\n",
    "# # Store precision,recall and f1_score\n",
    "# precision_list = []\n",
    "# recall_list = []\n",
    "# f1_list = []\n",
    "\n",
    "# # Initialize lists to store metrics across all folds\n",
    "# macro_avg_precisions = []\n",
    "# macro_avg_recalls = []\n",
    "# macro_avg_f1_scores = []\n",
    "\n",
    "# weighted_avg_precisions = []\n",
    "# weighted_avg_recalls = []\n",
    "# weighted_avg_f1_scores = []\n",
    "\n",
    "# all_val_true_labels = []\n",
    "# all_val_pred_labels = []\n",
    "\n",
    "# for fold, (train_indices, valid_indices) in enumerate(kf.split(np.arange(len(leaf_datasets)),leaf_datasets.targets)):\n",
    "#     print(f\"Fold {fold+1}/{num_folds}\")\n",
    "\n",
    "#     # Create dataloaders for the current fold\n",
    "#     train_dataset = Subset(leaf_datasets, train_indices)\n",
    "#     valid_dataset = Subset(leaf_datasets, valid_indices)\n",
    "#     dataloaders = {\n",
    "#         'train': DataLoader(train_dataset, batch_size=batch_size, shuffle=True, num_workers=8),\n",
    "#         'valid': DataLoader(valid_dataset, batch_size=batch_size, shuffle=False, num_workers=8)\n",
    "#     }\n",
    "\n",
    "#     # Create the model and send it to device\n",
    "#     model = DenseNetModel(num_classes)\n",
    "#     dev = torch.device(\"cuda\" if torch.cuda.is_available() else \"cpu\")\n",
    "#     model = model.to(dev)\n",
    "\n",
    "#     # Define optimizer, loss function, and learning rate scheduler for each fold\n",
    "#     optimizer = optim.Adam(model.parameters(), lr=0.01)\n",
    "#     criterion = nn.CrossEntropyLoss()\n",
    "#     scheduler = lr_scheduler.StepLR(optimizer, step_size=10, gamma=0.1)\n",
    "\n",
    "#     # Train the model for the current fold\n",
    "#     since = time.time()\n",
    "#     best_model_wts = copy.deepcopy(model.state_dict())\n",
    "#     best_acc = 0.0\n",
    "    \n",
    "#     # Initialize lists to store training and validation losses for each epoch\n",
    "#     epoch_train_loss = []\n",
    "#     epoch_val_loss = []\n",
    "#     epoch_train_acc=[]\n",
    "#     epoch_val_acc=[]\n",
    "\n",
    "#     for epoch in range(15):\n",
    "#         model.train()\n",
    "#         running_loss = 0.0\n",
    "#         running_corrects = 0\n",
    "\n",
    "#         for inputs, labels in dataloaders['train']:\n",
    "#             inputs, labels = inputs.to(dev), labels.to(dev)\n",
    "\n",
    "#             optimizer.zero_grad()\n",
    "\n",
    "#             with torch.set_grad_enabled(True):\n",
    "#                 outputs = model(inputs)\n",
    "#                 loss = criterion(outputs, labels)\n",
    "#                 _, preds = torch.max(outputs, 1)\n",
    "\n",
    "#                 loss.backward()\n",
    "#                 optimizer.step()\n",
    "\n",
    "#             running_loss += loss.item() * inputs.size(0)\n",
    "#             running_corrects += torch.sum(preds == labels.data)\n",
    "\n",
    "#         epoch_loss = running_loss / len(dataloaders['train'].dataset)\n",
    "#         epoch_acc = running_corrects.double() / len(dataloaders['train'].dataset)\n",
    "#         epoch_train_loss.append(epoch_loss)\n",
    "#         epoch_train_acc.append(epoch_acc)\n",
    "        \n",
    "#         model.eval()\n",
    "#         val_true_labels, val_pred_labels = [], []\n",
    "#         val_loss = 0.0\n",
    "#         val_corrects = 0\n",
    "\n",
    "#         with torch.no_grad():\n",
    "#             for inputs, labels in dataloaders['valid']:\n",
    "#                 inputs, labels = inputs.to(dev), labels.to(dev)\n",
    "\n",
    "#                 outputs = model(inputs)\n",
    "#                 loss = criterion(outputs, labels)\n",
    "#                 _, preds = torch.max(outputs, 1)\n",
    "\n",
    "#                 val_loss += loss.item() * inputs.size(0)\n",
    "#                 val_corrects += torch.sum(preds == labels.data)\n",
    "\n",
    "#                 val_true_labels.extend(labels.cpu().numpy())\n",
    "#                 val_pred_labels.extend(preds.cpu().numpy())\n",
    "\n",
    "#         val_loss = val_loss / len(dataloaders['valid'].dataset)\n",
    "#         val_acc = val_corrects.double() / len(dataloaders['valid'].dataset)\n",
    "#         epoch_val_loss.append(val_loss)\n",
    "#         epoch_val_acc.append(val_acc)\n",
    "#         print(\"Epoch {}/{} | Training Loss: {:.4f} | Training Acc: {:.4f} | Validation Loss: {:.4f} | Validation Acc: {:.4f}\".format(\n",
    "#             epoch+1, 15, epoch_loss, epoch_acc, val_loss, val_acc))\n",
    "\n",
    "#         if val_acc > best_acc:\n",
    "#             best_acc = val_acc\n",
    "#             best_model_wts = copy.deepcopy(model.state_dict())\n",
    "\n",
    "#         scheduler.step()\n",
    "\n",
    "#     time_elapsed = time.time() - since\n",
    "#     print('Training complete in {:.0f}m {:.0f}s'.format(time_elapsed // 60, time_elapsed % 60))\n",
    "#     print('Best validation Acc: {:.4f}'.format(best_acc))\n",
    "\n",
    "#     fold_val_acc_list.append(val_acc)\n",
    "#     fold_val_loss_list.append(val_loss)\n",
    "#     all_true_labels.extend(val_true_labels)\n",
    "#     all_pred_labels.extend(val_pred_labels)\n",
    "    \n",
    "#     # Store the training and validation losses for the current fold\n",
    "#     train_loss_list.append(epoch_train_loss)\n",
    "#     val_loss_list.append(epoch_val_loss)\n",
    "#     #Store the accuracy\n",
    "#     train_acc_list.append(epoch_train_acc)\n",
    "#     val_acc_list.append(epoch_val_acc)\n",
    "    \n",
    "#     # Calculate and display precision, recall, and F1 score for the current fold\n",
    "#     num_val_samples = len(valid_dataset)  # Use the valid_dataset for correct count\n",
    "#     start_idx = num_val_samples * fold\n",
    "#     end_idx = num_val_samples * (fold + 1)\n",
    "#     val_true_labels_fold = val_true_labels[start_idx: end_idx]\n",
    "#     val_pred_labels_fold = val_pred_labels[start_idx: end_idx]\n",
    "    \n",
    "#     all_val_true_labels.extend(val_true_labels_fold)\n",
    "#     all_val_pred_labels.extend(val_pred_labels_fold)\n",
    "\n",
    "#     precision = precision_score(val_true_labels_fold, val_pred_labels_fold, average='weighted')\n",
    "#     recall = recall_score(val_true_labels_fold, val_pred_labels_fold, average='weighted')\n",
    "#     f1 = f1_score(val_true_labels_fold, val_pred_labels_fold, average='weighted')\n",
    "    \n",
    "#     print(f\"Fold {fold+1} - Precision: {precision:.4f} | Recall: {recall:.4f} | F1 Score: {f1:.4f}\")\n",
    "    \n",
    "#     # Plot confusion matrix for the current fold\n",
    "#     plot_confusion_matrix(val_true_labels, val_pred_labels, leaf_datasets.classes)\n",
    "#     val_report = classification_report(val_true_labels, val_pred_labels, target_names=leaf_datasets.classes)\n",
    "#     print(f\"Fold {fold+1} - Classification Report:\\n{val_report}\")\n",
    "#     # Accumulate metrics for averaging\n",
    "#     macro_avg_precisions.append(precision_score(val_true_labels_fold, val_pred_labels_fold, average='macro'))\n",
    "#     macro_avg_recalls.append(recall_score(val_true_labels_fold, val_pred_labels_fold, average='macro'))\n",
    "#     macro_avg_f1_scores.append(f1_score(val_true_labels_fold, val_pred_labels_fold, average='macro'))\n",
    "\n",
    "#     weighted_avg_precisions.append(precision)\n",
    "#     weighted_avg_recalls.append(recall)\n",
    "#     weighted_avg_f1_scores.append(f1)\n",
    "    \n",
    "# # Calculate and print averages\n",
    "# avg_macro_precision = np.nanmean(macro_avg_precisions)\n",
    "# avg_macro_recall = np.nanmean(macro_avg_recalls)\n",
    "# avg_macro_f1 = np.nanmean(macro_avg_f1_scores)\n",
    "\n",
    "# avg_weighted_precision = np.nanmean(weighted_avg_precisions)\n",
    "# avg_weighted_recall = np.nanmean(weighted_avg_recalls)\n",
    "# avg_weighted_f1 = np.nanmean(weighted_avg_f1_scores)\n",
    "\n",
    "\n",
    "\n",
    "# print(\"\\nAverage Macro Avg Precision:\", avg_macro_precision)\n",
    "# print(\"Average Macro Avg Recall:\", avg_macro_recall)\n",
    "# print(\"Average Macro Avg F1 Score:\", avg_macro_f1)\n",
    "\n",
    "# print(\"\\nAverage Weighted Avg Precision:\", avg_weighted_precision)\n",
    "# print(\"Average Weighted Avg Recall:\", avg_weighted_recall)\n",
    "# print(\"Average Weighted Avg F1 Score:\", avg_weighted_f1)\n",
    "\n",
    "# # Calculate and print metrics for the entire dataset\n",
    "# final_precision = precision_score(all_val_true_labels, all_val_pred_labels, average='weighted')\n",
    "# final_recall = recall_score(all_val_true_labels, all_val_pred_labels, average='weighted')\n",
    "# final_f1 = f1_score(all_val_true_labels, all_val_pred_labels, average='weighted')\n",
    "\n",
    "# print(\"Final Precision:\", final_precision)\n",
    "# print(\"Final Recall:\", final_recall)\n",
    "# print(\"Final F1 Score:\", final_f1)\n",
    "\n",
    "\n",
    "\n",
    "\n",
    "\n",
    "\n",
    "\n",
    "    \n",
    "\n",
    "    \n",
    "\n",
    "    \n",
    "    \n",
    "    \n",
    "\n",
    "\n",
    "    "
   ]
  },
  {
   "cell_type": "code",
   "execution_count": 15,
   "metadata": {
    "execution": {
     "iopub.execute_input": "2025-07-18T08:55:49.662294Z",
     "iopub.status.busy": "2025-07-18T08:55:49.661545Z",
     "iopub.status.idle": "2025-07-18T09:53:22.403987Z",
     "shell.execute_reply": "2025-07-18T09:53:22.402797Z",
     "shell.execute_reply.started": "2025-07-18T08:55:49.662266Z"
    }
   },
   "outputs": [
    {
     "name": "stdout",
     "output_type": "stream",
     "text": [
      "Train size: 14446\n",
      "Validation size: 3095\n",
      "Test size: 3097\n"
     ]
    },
    {
     "name": "stderr",
     "output_type": "stream",
     "text": [
      "/opt/conda/lib/python3.10/site-packages/torch/utils/data/dataloader.py:561: UserWarning: This DataLoader will create 8 worker processes in total. Our suggested max number of worker in current system is 4, which is smaller than what this DataLoader is going to create. Please be aware that excessive worker creation might get DataLoader running slow or even freeze, lower the worker number to avoid potential slowness/freeze if necessary.\n",
      "  warnings.warn(_create_warning_msg(\n"
     ]
    },
    {
     "name": "stdout",
     "output_type": "stream",
     "text": [
      "\n",
      "Epoch 1/15\n",
      "Train Loss: 2.0342 | Train Acc: 0.5017 | Val Loss: 2.3410 | Val Acc: 0.4960\n",
      "\n",
      "Epoch 2/15\n",
      "Train Loss: 0.8324 | Train Acc: 0.7343 | Val Loss: 0.9224 | Val Acc: 0.7134\n",
      "\n",
      "Epoch 3/15\n",
      "Train Loss: 0.3768 | Train Acc: 0.8764 | Val Loss: 1.3433 | Val Acc: 0.6969\n",
      "\n",
      "Epoch 5/15\n",
      "Train Loss: 0.3086 | Train Acc: 0.8991 | Val Loss: 0.3713 | Val Acc: 0.8775\n",
      "\n",
      "Epoch 6/15\n",
      "Train Loss: 0.2502 | Train Acc: 0.9180 | Val Loss: 0.6884 | Val Acc: 0.8087\n",
      "\n",
      "Epoch 7/15\n",
      "Train Loss: 0.2278 | Train Acc: 0.9240 | Val Loss: 0.2892 | Val Acc: 0.9131\n",
      "\n",
      "Epoch 8/15\n",
      "Train Loss: 0.1714 | Train Acc: 0.9425 | Val Loss: 0.2279 | Val Acc: 0.9389\n",
      "\n",
      "Epoch 9/15\n",
      "Train Loss: 0.1735 | Train Acc: 0.9415 | Val Loss: 0.4606 | Val Acc: 0.8711\n",
      "\n",
      "Epoch 10/15\n",
      "Train Loss: 0.1507 | Train Acc: 0.9501 | Val Loss: 0.2234 | Val Acc: 0.9328\n",
      "\n",
      "Epoch 11/15\n",
      "Train Loss: 0.0688 | Train Acc: 0.9766 | Val Loss: 0.0800 | Val Acc: 0.9803\n",
      "\n",
      "Epoch 12/15\n",
      "Train Loss: 0.0468 | Train Acc: 0.9853 | Val Loss: 0.0774 | Val Acc: 0.9822\n",
      "\n",
      "Epoch 13/15\n",
      "Train Loss: 0.0446 | Train Acc: 0.9849 | Val Loss: 0.0806 | Val Acc: 0.9809\n",
      "\n",
      "Epoch 14/15\n",
      "Train Loss: 0.0363 | Train Acc: 0.9889 | Val Loss: 0.0798 | Val Acc: 0.9809\n",
      "\n",
      "Epoch 15/15\n",
      "Train Loss: 0.0305 | Train Acc: 0.9909 | Val Loss: 0.0776 | Val Acc: 0.9829\n",
      "\n",
      "Training complete in 57m 16s\n",
      "Best Validation Accuracy: 0.9829\n",
      "Best model saved as 'best_model.pth'\n",
      "\n",
      "Test Accuracy: tensor(0.9848, device='cuda:0', dtype=torch.float64)\n",
      "Test Precision: 0.9849763861512411\n",
      "Test Recall: 0.9848240232483048\n",
      "Test F1 Score: 0.9848527280418168\n"
     ]
    },
    {
     "data": {
      "image/png": "[encoded data removed]",
      "text/plain": [
       "<Figure size 800x800 with 1 Axes>"
      ]
     },
     "metadata": {},
     "output_type": "display_data"
    },
    {
     "name": "stdout",
     "output_type": "stream",
     "text": [
      "Test Classification Report:\n",
      "               precision    recall  f1-score   support\n",
      "\n",
      "        PBBS       0.99      0.99      0.99       140\n",
      "         PBH       0.99      1.00      0.99       241\n",
      "         PEB       1.00      0.99      0.99       156\n",
      "         PLB       0.98      0.98      0.98       168\n",
      "          PH       1.00      0.95      0.98        22\n",
      "         TBS       1.00      0.99      0.99       335\n",
      "         TEB       0.94      0.98      0.96       150\n",
      "         TLB       0.98      0.97      0.98       274\n",
      "         TLM       1.00      0.98      0.99       139\n",
      "        TSLS       0.99      0.99      0.99       264\n",
      "         TSM       0.97      0.98      0.97       268\n",
      "         TTS       0.96      0.96      0.96       198\n",
      "        TYCV       0.99      1.00      0.99       478\n",
      "        TTMV       0.98      1.00      0.99        50\n",
      "          TH       1.00      0.99      1.00       214\n",
      "\n",
      "    accuracy                           0.98      3097\n",
      "   macro avg       0.98      0.98      0.98      3097\n",
      "weighted avg       0.98      0.98      0.98      3097\n",
      "\n"
     ]
    }
   ],
   "source": [
    "# Parameters\n",
    "random_seed = 42\n",
    "num_classes = len(leaf_datasets.classes)\n",
    "torch.manual_seed(random_seed)\n",
    "\n",
    "# Total dataset size\n",
    "total_size = len(leaf_datasets)\n",
    "\n",
    "# Compute exact sizes\n",
    "train_size = int(0.7 * total_size)\n",
    "val_size = int(0.15 * total_size)\n",
    "test_size = total_size - train_size - val_size  # ensures sum matches exactly\n",
    "\n",
    "# Perform the split\n",
    "train_dataset, valid_dataset, test_dataset = random_split(leaf_datasets, [train_size, val_size, test_size])\n",
    "\n",
    "print(\"Train size:\", train_size)\n",
    "print(\"Validation size:\", len(valid_dataset))\n",
    "print(\"Test size:\", len(test_dataset))\n",
    "\n",
    "# Create DataLoaders\n",
    "dataloaders = {\n",
    "    'train': DataLoader(train_dataset, batch_size=batch_size, shuffle=True, num_workers=8),\n",
    "    'valid': DataLoader(valid_dataset, batch_size=batch_size, shuffle=False, num_workers=8),\n",
    "    'test': DataLoader(test_dataset, batch_size=batch_size, shuffle=False, num_workers=8)\n",
    "}\n",
    "# Create model\n",
    "model = DenseNetModel(num_classes)\n",
    "dev = torch.device(\"cuda\" if torch.cuda.is_available() else \"cpu\")\n",
    "model = model.to(dev)\n",
    "\n",
    "# Optimizer, loss, scheduler\n",
    "optimizer = optim.Adam(model.parameters(), lr=0.01)\n",
    "criterion = nn.CrossEntropyLoss()\n",
    "scheduler = lr_scheduler.StepLR(optimizer, step_size=10, gamma=0.1)\n",
    "\n",
    "# Training setup\n",
    "best_model_wts = copy.deepcopy(model.state_dict())\n",
    "best_acc = 0.0\n",
    "num_epochs = 15\n",
    "\n",
    "train_loss_list = []\n",
    "val_loss_list = []\n",
    "train_acc_list = []\n",
    "val_acc_list = []\n",
    "\n",
    "val_true_labels = []\n",
    "val_pred_labels = []\n",
    "\n",
    "since = time.time()\n",
    "\n",
    "for epoch in range(num_epochs):\n",
    "    print(f\"\\nEpoch {epoch+1}/{num_epochs}\")\n",
    "\n",
    "    # Training phase\n",
    "    model.train()\n",
    "    running_loss = 0.0\n",
    "    running_corrects = 0\n",
    "\n",
    "    for inputs, labels in dataloaders['train']:\n",
    "        inputs, labels = inputs.to(dev), labels.to(dev)\n",
    "        optimizer.zero_grad()\n",
    "\n",
    "        with torch.set_grad_enabled(True):\n",
    "            outputs = model(inputs)\n",
    "            loss = criterion(outputs, labels)\n",
    "            _, preds = torch.max(outputs, 1)\n",
    "            loss.backward()\n",
    "            optimizer.step()\n",
    "\n",
    "        running_loss += loss.item() * inputs.size(0)\n",
    "        running_corrects += torch.sum(preds == labels.data)\n",
    "\n",
    "    epoch_loss = running_loss / len(dataloaders['train'].dataset)\n",
    "    epoch_acc = running_corrects.double() / len(dataloaders['train'].dataset)\n",
    "    train_loss_list.append(epoch_loss)\n",
    "    train_acc_list.append(epoch_acc)\n",
    "\n",
    "    # Validation phase\n",
    "    model.eval()\n",
    "    val_loss = 0.0\n",
    "    val_corrects = 0\n",
    "    val_true_labels.clear()\n",
    "    val_pred_labels.clear()\n",
    "\n",
    "    with torch.no_grad():\n",
    "        for inputs, labels in dataloaders['valid']:\n",
    "            inputs, labels = inputs.to(dev), labels.to(dev)\n",
    "            outputs = model(inputs)\n",
    "            loss = criterion(outputs, labels)\n",
    "            _, preds = torch.max(outputs, 1)\n",
    "\n",
    "            val_loss += loss.item() * inputs.size(0)\n",
    "            val_corrects += torch.sum(preds == labels.data)\n",
    "\n",
    "            val_true_labels.extend(labels.cpu().numpy())\n",
    "            val_pred_labels.extend(preds.cpu().numpy())\n",
    "\n",
    "    val_loss = val_loss / len(dataloaders['valid'].dataset)\n",
    "    val_acc = val_corrects.double() / len(dataloaders['valid'].dataset)\n",
    "    val_loss_list.append(val_loss)\n",
    "    val_acc_list.append(val_acc)\n",
    "\n",
    "    print(f\"Train Loss: {epoch_loss:.4f} | Train Acc: {epoch_acc:.4f} | Val Loss: {val_loss:.4f} | Val Acc: {val_acc:.4f}\")\n",
    "\n",
    "    if val_acc > best_acc:\n",
    "        best_acc = val_acc\n",
    "        best_model_wts = copy.deepcopy(model.state_dict())\n",
    "\n",
    "    scheduler.step()\n",
    "\n",
    "# End of training\n",
    "time_elapsed = time.time() - since\n",
    "print(f\"\\nTraining complete in {time_elapsed // 60:.0f}m {time_elapsed % 60:.0f}s\")\n",
    "print(f\"Best Validation Accuracy: {best_acc:.4f}\")\n",
    "\n",
    "# Save best model\n",
    "model.load_state_dict(best_model_wts)\n",
    "torch.save(model.state_dict(), \"best_model.pth\")\n",
    "print(\"Best model saved as 'best_model.pth'\")\n",
    "# Final evaluation on test set\n",
    "model.eval()\n",
    "test_true_labels = []\n",
    "test_pred_labels = []\n",
    "test_corrects = 0\n",
    "\n",
    "with torch.no_grad():\n",
    "    for inputs, labels in dataloaders['test']:\n",
    "        inputs, labels = inputs.to(dev), labels.to(dev)\n",
    "        outputs = model(inputs)\n",
    "        _, preds = torch.max(outputs, 1)\n",
    "\n",
    "        test_corrects += torch.sum(preds == labels.data)\n",
    "        test_true_labels.extend(labels.cpu().numpy())\n",
    "        test_pred_labels.extend(preds.cpu().numpy())\n",
    "\n",
    "# Metrics\n",
    "final_test_acc = test_corrects.double() / len(dataloaders['test'].dataset)\n",
    "final_test_precision = precision_score(test_true_labels, test_pred_labels, average='weighted')\n",
    "final_test_recall = recall_score(test_true_labels, test_pred_labels, average='weighted')\n",
    "final_test_f1 = f1_score(test_true_labels, test_pred_labels, average='weighted')\n",
    "\n",
    "print(\"\\nTest Accuracy:\", final_test_acc)\n",
    "print(\"Test Precision:\", final_test_precision)\n",
    "print(\"Test Recall:\", final_test_recall)\n",
    "print(\"Test F1 Score:\", final_test_f1)\n",
    "\n",
    "# Confusion Matrix & Report\n",
    "plot_confusion_matrix(test_true_labels, test_pred_labels, leaf_datasets.classes)\n",
    "test_report = classification_report(test_true_labels, test_pred_labels, target_names=leaf_datasets.classes)\n",
    "print(\"Test Classification Report:\\n\", test_report)"
   ]
  },
  {
   "cell_type": "code",
   "execution_count": null,
   "metadata": {},
   "outputs": [],
   "source": [
    "# # ----------------------- Split 85%-15% -----------------------\n",
    "# dataset_size = len(leaf_datasets)\n",
    "# indices = np.arange(dataset_size)\n",
    "# labels = np.array(leaf_datasets.targets)\n",
    "\n",
    "# # Split into 85% train_val and 15% test\n",
    "# skf_main = StratifiedKFold(n_splits=100//15, shuffle=True, random_state=42)\n",
    "# train_val_idx, test_idx = next(skf_main.split(indices, labels))\n",
    "# train_val_dataset = Subset(leaf_datasets, train_val_idx)\n",
    "# test_dataset = Subset(leaf_datasets, test_idx)\n",
    "\n",
    "# # Extract labels for KFold on 85%\n",
    "# train_val_labels = [leaf_datasets.targets[i] for i in train_val_idx]\n",
    "# train_val_labels = np.array(train_val_labels)\n",
    "\n",
    "# # ----------------------- Stratified K-Fold on 85% -----------------------\n",
    "# num_folds = 5\n",
    "# skf = StratifiedKFold(n_splits=num_folds, shuffle=True, random_state=42)\n",
    "\n",
    "# best_fold = -1\n",
    "# best_fold_acc = 0.0\n",
    "# best_model_state = None\n",
    "# device = torch.device('cuda' if torch.cuda.is_available() else 'cpu')\n",
    "\n"
   ]
  },
  {
   "cell_type": "code",
   "execution_count": null,
   "metadata": {},
   "outputs": [],
   "source": [
    "# for fold, (train_idx, val_idx) in enumerate(skf.split(train_val_idx, train_val_labels)):\n",
    "#     print(f\"\\n--- Fold {fold+1} ---\")\n",
    "#     train_indices = [train_val_idx[i] for i in train_idx]\n",
    "#     val_indices = [train_val_idx[i] for i in val_idx]\n",
    "\n",
    "#     dataloaders = {\n",
    "#         'train': DataLoader(Subset(leaf_datasets, train_indices), batch_size=32, shuffle=True, num_workers=2),\n",
    "#         'val': DataLoader(Subset(leaf_datasets, val_indices), batch_size=32, shuffle=False, num_workers=2),\n",
    "#     }\n",
    "\n",
    "#     model = Model(num_classes=len(leaf_datasets.classes)).to(device)\n",
    "#     criterion = nn.CrossEntropyLoss()\n",
    "#     optimizer = optim.Adam(model.parameters(), lr=0.001)\n",
    "#     scheduler = lr_scheduler.StepLR(optimizer, step_size=5, gamma=0.1)\n",
    "\n",
    "#     best_val_acc = 0.0\n",
    "#     best_model_wts = copy.deepcopy(model.state_dict())\n",
    "\n",
    "#     for epoch in range(10):\n",
    "#         model.train()\n",
    "#         for inputs, labels in dataloaders['train']:\n",
    "#             inputs, labels = inputs.to(device), labels.to(device)\n",
    "#             optimizer.zero_grad()\n",
    "#             outputs = model(inputs)\n",
    "#             loss = criterion(outputs, labels)\n",
    "#             loss.backward()\n",
    "#             optimizer.step()\n",
    "#         scheduler.step()\n",
    "\n",
    "#         # Validation\n",
    "#         model.eval()\n",
    "#         val_correct = 0\n",
    "#         total = 0\n",
    "#         with torch.no_grad():\n",
    "#             for inputs, labels in dataloaders['val']:\n",
    "#                 inputs, labels = inputs.to(device), labels.to(device)\n",
    "#                 outputs = model(inputs)\n",
    "#                 _, preds = torch.max(outputs, 1)\n",
    "#                 val_correct += torch.sum(preds == labels)\n",
    "#                 total += labels.size(0)\n",
    "\n",
    "#         val_acc = val_correct.double() / total\n",
    "#         if val_acc > best_val_acc:\n",
    "#             best_val_acc = val_acc\n",
    "#             best_model_wts = copy.deepcopy(model.state_dict())\n",
    "\n",
    "#     print(f\"Fold {fold+1} best validation accuracy: {best_val_acc:.4f}\")\n",
    "\n",
    "#     # Save best model across all folds\n",
    "#     if best_val_acc > best_fold_acc:\n",
    "#         best_fold_acc = best_val_acc\n",
    "#         best_fold = fold\n",
    "#         best_model_state = best_model_wts"
   ]
  },
  {
   "cell_type": "code",
   "execution_count": null,
   "metadata": {},
   "outputs": [],
   "source": []
  },
  {
   "cell_type": "code",
   "execution_count": 16,
   "metadata": {
    "execution": {
     "iopub.execute_input": "2025-07-18T09:56:47.921871Z",
     "iopub.status.busy": "2025-07-18T09:56:47.921534Z",
     "iopub.status.idle": "2025-07-18T09:56:48.425597Z",
     "shell.execute_reply": "2025-07-18T09:56:48.424683Z",
     "shell.execute_reply.started": "2025-07-18T09:56:47.921845Z"
    }
   },
   "outputs": [
    {
     "data": {
      "image/png": "[encoded data removed]",
      "text/plain": [
       "<Figure size 1000x600 with 1 Axes>"
      ]
     },
     "metadata": {},
     "output_type": "display_data"
    }
   ],
   "source": [
    "\n",
    "\n",
    "plt.figure(figsize=(10, 6))\n",
    "plt.plot(train_loss_list, label=\"Train Loss\")\n",
    "plt.plot(val_loss_list, label=\"Validation Loss\")\n",
    "plt.xlabel('Epoch')\n",
    "plt.ylabel('Loss')\n",
    "plt.legend()\n",
    "plt.title(\"Training and Validation Loss\")\n",
    "plt.savefig(\"loss_plot.png\")\n",
    "plt.show(block=True)\n"
   ]
  },
  {
   "cell_type": "code",
   "execution_count": 17,
   "metadata": {
    "execution": {
     "iopub.execute_input": "2025-07-18T09:56:52.617641Z",
     "iopub.status.busy": "2025-07-18T09:56:52.616957Z",
     "iopub.status.idle": "2025-07-18T09:56:53.142968Z",
     "shell.execute_reply": "2025-07-18T09:56:53.142028Z",
     "shell.execute_reply.started": "2025-07-18T09:56:52.617610Z"
    }
   },
   "outputs": [
    {
     "data": {
      "image/png": "[encoded data removed]",
      "text/plain": [
       "<Figure size 1000x600 with 1 Axes>"
      ]
     },
     "metadata": {},
     "output_type": "display_data"
    }
   ],
   "source": [
    "import matplotlib.pyplot as plt\n",
    "\n",
    "# Convert to tensors if needed (optional)\n",
    "train_acc_tensor = torch.tensor(train_acc_list)\n",
    "val_acc_tensor = torch.tensor(val_acc_list)\n",
    "\n",
    "plt.figure(figsize=(10, 6))\n",
    "plt.plot(train_acc_tensor, label=\"Train Accuracy\")\n",
    "plt.plot(val_acc_tensor, label=\"Validation Accuracy\")\n",
    "\n",
    "plt.xlabel('Epoch')\n",
    "plt.ylabel('Accuracy')\n",
    "plt.legend()\n",
    "plt.title(\"Training and Validation Accuracy\")\n",
    "plt.savefig(\"accuracy_plot.png\")\n",
    "plt.show()\n"
   ]
  },
  {
   "cell_type": "code",
   "execution_count": 18,
   "metadata": {
    "execution": {
     "iopub.execute_input": "2025-07-18T09:56:58.502486Z",
     "iopub.status.busy": "2025-07-18T09:56:58.502153Z",
     "iopub.status.idle": "2025-07-18T09:56:58.524022Z",
     "shell.execute_reply": "2025-07-18T09:56:58.523033Z",
     "shell.execute_reply.started": "2025-07-18T09:56:58.502461Z"
    }
   },
   "outputs": [
    {
     "name": "stdout",
     "output_type": "stream",
     "text": [
      "Classification Report:\n",
      "               precision    recall  f1-score   support\n",
      "\n",
      "        PBBS       0.99      0.99      0.99       156\n",
      "         PBH       1.00      1.00      1.00       219\n",
      "         PEB       1.00      0.99      0.99       157\n",
      "         PLB       0.96      1.00      0.98       136\n",
      "          PH       1.00      1.00      1.00        23\n",
      "         TBS       0.99      0.99      0.99       290\n",
      "         TEB       0.95      0.97      0.96       139\n",
      "         TLB       0.99      0.96      0.97       282\n",
      "         TLM       0.99      0.99      0.99       146\n",
      "        TSLS       0.97      0.98      0.98       262\n",
      "         TSM       0.96      0.98      0.97       243\n",
      "         TTS       0.96      0.96      0.96       216\n",
      "        TYCV       0.99      0.99      0.99       515\n",
      "        TTMV       0.98      0.98      0.98        63\n",
      "          TH       1.00      0.99      0.99       248\n",
      "\n",
      "    accuracy                           0.98      3095\n",
      "   macro avg       0.98      0.98      0.98      3095\n",
      "weighted avg       0.98      0.98      0.98      3095\n",
      "\n"
     ]
    }
   ],
   "source": [
    "val_report = classification_report(val_true_labels, val_pred_labels, target_names=leaf_datasets.classes)\n",
    "print(\"Classification Report:\\n\", val_report)"
   ]
  },
  {
   "cell_type": "code",
   "execution_count": 19,
   "metadata": {
    "execution": {
     "iopub.execute_input": "2025-07-18T09:57:03.396258Z",
     "iopub.status.busy": "2025-07-18T09:57:03.395413Z",
     "iopub.status.idle": "2025-07-18T09:57:03.822766Z",
     "shell.execute_reply": "2025-07-18T09:57:03.821549Z",
     "shell.execute_reply.started": "2025-07-18T09:57:03.396231Z"
    }
   },
   "outputs": [
    {
     "ename": "NameError",
     "evalue": "name 'num_folds' is not defined",
     "output_type": "error",
     "traceback": [
      "\u001b[0;31m---------------------------------------------------------------------------\u001b[0m",
      "\u001b[0;31mNameError\u001b[0m                                 Traceback (most recent call last)",
      "Cell \u001b[0;32mIn[19], line 2\u001b[0m\n\u001b[1;32m      1\u001b[0m \u001b[38;5;66;03m#plt.figure(figsize=(10, 6))\u001b[39;00m\n\u001b[0;32m----> 2\u001b[0m \u001b[38;5;28;01mfor\u001b[39;00m fold \u001b[38;5;129;01min\u001b[39;00m \u001b[38;5;28mrange\u001b[39m(\u001b[43mnum_folds\u001b[49m):\n\u001b[1;32m      3\u001b[0m     plt\u001b[38;5;241m.\u001b[39mplot(train_loss_list[fold], label\u001b[38;5;241m=\u001b[39m\u001b[38;5;124mf\u001b[39m\u001b[38;5;124m\"\u001b[39m\u001b[38;5;124mFold \u001b[39m\u001b[38;5;132;01m{\u001b[39;00mfold\u001b[38;5;241m+\u001b[39m\u001b[38;5;241m1\u001b[39m\u001b[38;5;132;01m}\u001b[39;00m\u001b[38;5;124m - Train Loss\u001b[39m\u001b[38;5;124m\"\u001b[39m)\n\u001b[1;32m      4\u001b[0m     plt\u001b[38;5;241m.\u001b[39mplot(val_loss_list[fold], label\u001b[38;5;241m=\u001b[39m\u001b[38;5;124mf\u001b[39m\u001b[38;5;124m\"\u001b[39m\u001b[38;5;124mFold \u001b[39m\u001b[38;5;132;01m{\u001b[39;00mfold\u001b[38;5;241m+\u001b[39m\u001b[38;5;241m1\u001b[39m\u001b[38;5;132;01m}\u001b[39;00m\u001b[38;5;124m - Validation Loss\u001b[39m\u001b[38;5;124m\"\u001b[39m)\n",
      "\u001b[0;31mNameError\u001b[0m: name 'num_folds' is not defined"
     ]
    }
   ],
   "source": [
    "#plt.figure(figsize=(10, 6))\n",
    "for fold in range(num_folds):\n",
    "    plt.plot(train_loss_list[fold], label=f\"Fold {fold+1} - Train Loss\")\n",
    "    plt.plot(val_loss_list[fold], label=f\"Fold {fold+1} - Validation Loss\")\n",
    "\n",
    "    plt.xlabel('Epoch')\n",
    "    plt.ylabel('Loss')\n",
    "    plt.legend()\n",
    "    plt.title(f\"Training and Validation Loss for Fold -{fold+1 }\")\n",
    "    plt.savefig(f\"loss_fold_{fold+1}.png\")\n",
    "    plt.show(block=True)"
   ]
  },
  {
   "cell_type": "code",
   "execution_count": null,
   "metadata": {},
   "outputs": [],
   "source": [
    "train_acc_list_tensor = torch.tensor(train_acc_list)\n",
    "val_acc_list_tensor = torch.tensor(val_acc_list)\n",
    "\n",
    "#plt.figure(figsize=(15, 8))\n",
    "\n",
    "for fold in range(num_folds):\n",
    "    plt.plot(train_acc_list_tensor[fold], label=f\"Fold {fold+1} - Train Accuracy\")\n",
    "    plt.plot(val_acc_list_tensor[fold], label=f\"Fold {fold+1} - Validation Accuracy\")\n",
    "\n",
    "    plt.xlabel('Epoch')\n",
    "    plt.ylabel('Accuracy')\n",
    "    plt.legend()\n",
    "    plt.title(f\"Training and Validation Accuracy for Fold -{fold+1 }\")\n",
    "    plt.savefig(f\"Accuracy_fold_{fold+1}.png\")\n",
    "    plt.show()\n"
   ]
  },
  {
   "cell_type": "code",
   "execution_count": null,
   "metadata": {},
   "outputs": [],
   "source": []
  },
  {
   "cell_type": "code",
   "execution_count": null,
   "metadata": {},
   "outputs": [],
   "source": []
  },
  {
   "cell_type": "code",
   "execution_count": null,
   "metadata": {},
   "outputs": [],
   "source": [
    "all_val_true_labels= statistics.mean(val_true_labels_fold)\n",
    "all_val_pred_labels= statistics.mean(val_pred_labels_fold)"
   ]
  }
 ],
 "metadata": {
  "kaggle": {
   "accelerator": "nvidiaTeslaT4",
   "dataSources": [
    {
     "datasetId": 70909,
     "sourceId": 150545,
     "sourceType": "datasetVersion"
    }
   ],
   "dockerImageVersionId": 30558,
   "isGpuEnabled": true,
   "isInternetEnabled": true,
   "language": "python",
   "sourceType": "notebook"
  },
  "kernelspec": {
   "display_name": "Python 3 (ipykernel)",
   "language": "python",
   "name": "python3"
  },
  "language_info": {
   "codemirror_mode": {
    "name": "ipython",
    "version": 3
   },
   "file_extension": ".py",
   "mimetype": "text/x-python",
   "name": "python",
   "nbconvert_exporter": "python",
   "pygments_lexer": "ipython3",
   "version": "3.13.5"
  }
 },
 "nbformat": 4,
 "nbformat_minor": 4
}
